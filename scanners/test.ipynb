{
 "cells": [
  {
   "cell_type": "code",
   "execution_count": 7,
   "metadata": {},
   "outputs": [],
   "source": [
    "import requests\n",
    "from pprint import pprint\n",
    "from bs4 import BeautifulSoup as bs\n",
    "from urllib.parse import urljoin\n",
    "import os\n",
    "\n",
    "# تحميل الـ payloads من ملف xss.txt\n",
    "def load_payloads(file_path=None):\n",
    "    if file_path is None:\n",
    "        file_path = os.path.join(os.path.dirname(__file__), \"xss.txt\")\n",
    "\n",
    "    try:\n",
    "        with open(file_path, \"r\", encoding=\"utf-8\") as f:\n",
    "            return [line.strip() for line in f.readlines() if line.strip()]\n",
    "    except FileNotFoundError:\n",
    "        print(f\"[-] Payload file not found: {file_path}\")\n",
    "        return []\n",
    "\n",
    "# استخراج كل الـ forms من الصفحة\n",
    "def get_all_forms(url):\n",
    "    response = requests.get(url)\n",
    "    if response.status_code != 200:\n",
    "        print(f\"[-] Error fetching the page: {response.status_code}\")\n",
    "        return []\n",
    "    soup = bs(response.content, \"html.parser\")\n",
    "    return soup.find_all(\"form\")\n",
    "\n",
    "# استخراج تفاصيل الـ form\n",
    "def get_form_details(form):\n",
    "    details = {}\n",
    "    action = form.attrs.get(\"action\", \"\").lower()\n",
    "    method = form.attrs.get(\"method\", \"get\").lower()\n",
    "    inputs = []\n",
    "    for input_tag in form.find_all(\"input\"):\n",
    "        input_type = input_tag.attrs.get(\"type\", \"text\")\n",
    "        input_name = input_tag.attrs.get(\"name\")\n",
    "        inputs.append({\"type\": input_type, \"name\": input_name})\n",
    "    details[\"action\"] = action\n",
    "    details[\"method\"] = method\n",
    "    details[\"inputs\"] = inputs\n",
    "    return details\n",
    "\n",
    "# إرسال البيانات للفورم\n",
    "def submit_form(form_details, url, value):\n",
    "    target_url = urljoin(url, form_details[\"action\"])\n",
    "    inputs = form_details[\"inputs\"]\n",
    "    data = {}\n",
    "\n",
    "    for input in inputs:\n",
    "        if input[\"type\"] == \"text\" or input[\"type\"] == \"search\":\n",
    "            input[\"value\"] = value\n",
    "        input_name = input.get(\"name\")\n",
    "        input_value = input.get(\"value\")\n",
    "        if input_name and input_value:\n",
    "            data[input_name] = input_value\n",
    "\n",
    "    if form_details[\"method\"] == \"post\":\n",
    "        return requests.post(target_url, data=data)\n",
    "    else:\n",
    "        return requests.get(target_url, params=data)\n",
    "\n",
    "# فحص XSS\n",
    "def scan_xss(url):\n",
    "    forms = get_all_forms(url)\n",
    "    print(f\"[+] Detected {len(forms)} forms on {url}.\")\n",
    "    \n",
    "    payloads = load_payloads()  # تحميل الـ payloads من ملف xss.txt\n",
    "    if not payloads:\n",
    "        print(\"[-] No payloads loaded.\")\n",
    "        return {\"XSS Scan Result\": False}\n",
    "\n",
    "    is_vulnerable = False\n",
    "    for form in forms:\n",
    "        form_details = get_form_details(form)\n",
    "        for payload in payloads:\n",
    "            print(f\"[*] Testing payload: {payload}\")\n",
    "            content = submit_form(form_details, url, payload).content.decode()\n",
    "            if payload in content:\n",
    "                print(f\"[+] XSS Detected on {url}\")\n",
    "                print(f\"[*] Form details:\")\n",
    "                pprint(form_details)\n",
    "                is_vulnerable = True\n",
    "                break  # وقف التجربة بعد أول اكتشاف للثغرة على الفورم\n",
    "\n",
    "    return {\"XSS Scan Result\": is_vulnerable}"
   ]
  },
  {
   "cell_type": "code",
   "execution_count": 8,
   "metadata": {},
   "outputs": [
    {
     "name": "stdout",
     "output_type": "stream",
     "text": [
      "[+] Detected 1 forms on http://testphp.vulnweb.com/search.php?test=query.\n"
     ]
    },
    {
     "ename": "NameError",
     "evalue": "name '__file__' is not defined",
     "output_type": "error",
     "traceback": [
      "\u001b[1;31m---------------------------------------------------------------------------\u001b[0m",
      "\u001b[1;31mNameError\u001b[0m                                 Traceback (most recent call last)",
      "Input \u001b[1;32mIn [8]\u001b[0m, in \u001b[0;36m<cell line: 1>\u001b[1;34m()\u001b[0m\n\u001b[1;32m----> 1\u001b[0m result \u001b[38;5;241m=\u001b[39m \u001b[43mscan_xss\u001b[49m\u001b[43m(\u001b[49m\u001b[38;5;124;43m'\u001b[39;49m\u001b[38;5;124;43mhttp://testphp.vulnweb.com/search.php?test=query\u001b[39;49m\u001b[38;5;124;43m'\u001b[39;49m\u001b[43m)\u001b[49m\n\u001b[0;32m      2\u001b[0m \u001b[38;5;28mprint\u001b[39m(result)\n",
      "Input \u001b[1;32mIn [7]\u001b[0m, in \u001b[0;36mscan_xss\u001b[1;34m(url)\u001b[0m\n\u001b[0;32m     64\u001b[0m forms \u001b[38;5;241m=\u001b[39m get_all_forms(url)\n\u001b[0;32m     65\u001b[0m \u001b[38;5;28mprint\u001b[39m(\u001b[38;5;124mf\u001b[39m\u001b[38;5;124m\"\u001b[39m\u001b[38;5;124m[+] Detected \u001b[39m\u001b[38;5;132;01m{\u001b[39;00m\u001b[38;5;28mlen\u001b[39m(forms)\u001b[38;5;132;01m}\u001b[39;00m\u001b[38;5;124m forms on \u001b[39m\u001b[38;5;132;01m{\u001b[39;00murl\u001b[38;5;132;01m}\u001b[39;00m\u001b[38;5;124m.\u001b[39m\u001b[38;5;124m\"\u001b[39m)\n\u001b[1;32m---> 67\u001b[0m payloads \u001b[38;5;241m=\u001b[39m \u001b[43mload_payloads\u001b[49m\u001b[43m(\u001b[49m\u001b[43m)\u001b[49m  \u001b[38;5;66;03m# تحميل الـ payloads من ملف xss.txt\u001b[39;00m\n\u001b[0;32m     68\u001b[0m \u001b[38;5;28;01mif\u001b[39;00m \u001b[38;5;129;01mnot\u001b[39;00m payloads:\n\u001b[0;32m     69\u001b[0m     \u001b[38;5;28mprint\u001b[39m(\u001b[38;5;124m\"\u001b[39m\u001b[38;5;124m[-] No payloads loaded.\u001b[39m\u001b[38;5;124m\"\u001b[39m)\n",
      "Input \u001b[1;32mIn [7]\u001b[0m, in \u001b[0;36mload_payloads\u001b[1;34m(file_path)\u001b[0m\n\u001b[0;32m      8\u001b[0m \u001b[38;5;28;01mdef\u001b[39;00m \u001b[38;5;21mload_payloads\u001b[39m(file_path\u001b[38;5;241m=\u001b[39m\u001b[38;5;28;01mNone\u001b[39;00m):\n\u001b[0;32m      9\u001b[0m     \u001b[38;5;28;01mif\u001b[39;00m file_path \u001b[38;5;129;01mis\u001b[39;00m \u001b[38;5;28;01mNone\u001b[39;00m:\n\u001b[1;32m---> 10\u001b[0m         file_path \u001b[38;5;241m=\u001b[39m os\u001b[38;5;241m.\u001b[39mpath\u001b[38;5;241m.\u001b[39mjoin(os\u001b[38;5;241m.\u001b[39mpath\u001b[38;5;241m.\u001b[39mdirname(\u001b[38;5;18;43m__file__\u001b[39;49m), \u001b[38;5;124m\"\u001b[39m\u001b[38;5;124mxss.txt\u001b[39m\u001b[38;5;124m\"\u001b[39m)\n\u001b[0;32m     12\u001b[0m     \u001b[38;5;28;01mtry\u001b[39;00m:\n\u001b[0;32m     13\u001b[0m         \u001b[38;5;28;01mwith\u001b[39;00m \u001b[38;5;28mopen\u001b[39m(file_path, \u001b[38;5;124m\"\u001b[39m\u001b[38;5;124mr\u001b[39m\u001b[38;5;124m\"\u001b[39m, encoding\u001b[38;5;241m=\u001b[39m\u001b[38;5;124m\"\u001b[39m\u001b[38;5;124mutf-8\u001b[39m\u001b[38;5;124m\"\u001b[39m) \u001b[38;5;28;01mas\u001b[39;00m f:\n",
      "\u001b[1;31mNameError\u001b[0m: name '__file__' is not defined"
     ]
    }
   ],
   "source": [
    "result = scan_xss('http://testphp.vulnweb.com/search.php?test=query')\n",
    "print(result)"
   ]
  },
  {
   "cell_type": "code",
   "execution_count": null,
   "metadata": {},
   "outputs": [],
   "source": []
  }
 ],
 "metadata": {
  "kernelspec": {
   "display_name": "py10",
   "language": "python",
   "name": "python3"
  },
  "language_info": {
   "codemirror_mode": {
    "name": "ipython",
    "version": 3
   },
   "file_extension": ".py",
   "mimetype": "text/x-python",
   "name": "python",
   "nbconvert_exporter": "python",
   "pygments_lexer": "ipython3",
   "version": "3.8.18"
  }
 },
 "nbformat": 4,
 "nbformat_minor": 2
}
